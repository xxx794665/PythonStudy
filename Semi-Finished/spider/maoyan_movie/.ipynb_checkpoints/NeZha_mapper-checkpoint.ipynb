{
 "cells": [
  {
   "cell_type": "code",
   "execution_count": 76,
   "metadata": {
    "ExecuteTime": {
     "end_time": "2019-08-07T08:49:39.766029Z",
     "start_time": "2019-08-07T08:49:39.539016Z"
    }
   },
   "outputs": [
    {
     "name": "stdout",
     "output_type": "stream",
     "text": [
      "深圳                     2046\n",
      "北京                     1738\n",
      "广州                     1553\n",
      "成都                     1466\n",
      "上海                     1442\n",
      "                       ... \n",
      "2019-07-29 22:46:39       1\n",
      "上杭                        1\n",
      "林芝                        1\n",
      "2019-07-28 23:47:06       1\n",
      "2019-07-28 13:26:12       1\n",
      "Name: cityName, Length: 1105, dtype: int64\n"
     ]
    }
   ],
   "source": [
    "import pandas as pd\n",
    "df = pd.read_csv('comments.txt', names=['id', 'nickName', 'cityName', 'content', 'score', 'startTime'])\n",
    "cityName = df['cityName']\n",
    "cityCounts = cityName.value_counts()\n",
    "index = cityCounts.index.tolist()\n",
    "values = cityCounts.values.tolist()\n",
    "\n",
    "\n",
    "type(cityCounts)\n",
    "print(cityCounts)\n",
    "# type(index)\n",
    "# print(index)\n",
    "# type(values)\n",
    "# print(values)"
   ]
  },
  {
   "cell_type": "code",
   "execution_count": 75,
   "metadata": {
    "ExecuteTime": {
     "end_time": "2019-08-07T08:46:24.723874Z",
     "start_time": "2019-08-07T08:46:24.521862Z"
    },
    "scrolled": true
   },
   "outputs": [
    {
     "ename": "AttributeError",
     "evalue": "'builtin_function_or_method' object has no attribute 'tolist'",
     "output_type": "error",
     "traceback": [
      "\u001b[1;31m---------------------------------------------------------------------------\u001b[0m",
      "\u001b[1;31mAttributeError\u001b[0m                            Traceback (most recent call last)",
      "\u001b[1;32m<ipython-input-75-c84c9a140b68>\u001b[0m in \u001b[0;36m<module>\u001b[1;34m\u001b[0m\n\u001b[0;32m      8\u001b[0m \u001b[1;31m# cityName = df['cityName']\u001b[0m\u001b[1;33m\u001b[0m\u001b[1;33m\u001b[0m\u001b[1;33m\u001b[0m\u001b[0m\n\u001b[0;32m      9\u001b[0m \u001b[0mcityCounts\u001b[0m \u001b[1;33m=\u001b[0m \u001b[0mdf\u001b[0m\u001b[1;33m[\u001b[0m\u001b[1;34m'cityName'\u001b[0m\u001b[1;33m]\u001b[0m\u001b[1;33m.\u001b[0m\u001b[0mvalue_counts\u001b[0m\u001b[1;33m(\u001b[0m\u001b[1;33m)\u001b[0m\u001b[1;33m.\u001b[0m\u001b[0mtolist\u001b[0m\u001b[1;33m(\u001b[0m\u001b[1;33m)\u001b[0m\u001b[1;33m\u001b[0m\u001b[1;33m\u001b[0m\u001b[0m\n\u001b[1;32m---> 10\u001b[1;33m \u001b[0mindex\u001b[0m \u001b[1;33m=\u001b[0m \u001b[0mcityCounts\u001b[0m\u001b[1;33m.\u001b[0m\u001b[0mindex\u001b[0m\u001b[1;33m.\u001b[0m\u001b[0mtolist\u001b[0m\u001b[1;33m(\u001b[0m\u001b[1;33m)\u001b[0m\u001b[1;33m\u001b[0m\u001b[1;33m\u001b[0m\u001b[0m\n\u001b[0m\u001b[0;32m     11\u001b[0m \u001b[0mvalues\u001b[0m \u001b[1;33m=\u001b[0m \u001b[0mcityCounts\u001b[0m\u001b[1;33m.\u001b[0m\u001b[0mvalues\u001b[0m\u001b[1;33m.\u001b[0m\u001b[0mtolist\u001b[0m\u001b[1;33m(\u001b[0m\u001b[1;33m)\u001b[0m\u001b[1;33m\u001b[0m\u001b[1;33m\u001b[0m\u001b[0m\n\u001b[0;32m     12\u001b[0m geo = (\n",
      "\u001b[1;31mAttributeError\u001b[0m: 'builtin_function_or_method' object has no attribute 'tolist'"
     ]
    }
   ],
   "source": [
    "from pyecharts import options as opts\n",
    "from pyecharts.charts import Geo\n",
    "from pyecharts.globals import ChartType, SymbolType, ThemeType\n",
    "import pandas as pd\n",
    "\n",
    "df = pd.read_csv('comments.txt', names=[\n",
    "                 'id', 'nickName', 'cityName', 'content', 'score', 'startTime'])\n",
    "# cityName = df['cityName']\n",
    "cityCounts = df['cityName'].value_counts().tolist()\n",
    "index = cityCounts.index.tolist()\n",
    "values = cityCounts.values.tolist()\n",
    "geo = (\n",
    "    Geo()\n",
    "    .set_global_opts(title_opts=opts.TitleOpts(title=\"哪吒\", subtitle=\"data from maoyan\"))\n",
    "    .set_global_opts(title_opts=opts.TitleOpts(\"ThemeType.CHALK\"))\n",
    "    .add_schema(is_roam=True, maptype='china')\n",
    "    .add(\"geo\", data_pair=cityCounts,\n",
    "         )\n",
    ")\n",
    "geo.render_notebook\n",
    "# 在 Jupyter Notebook 中渲染图表"
   ]
  },
  {
   "cell_type": "code",
   "execution_count": null,
   "metadata": {},
   "outputs": [],
   "source": []
  },
  {
   "cell_type": "code",
   "execution_count": null,
   "metadata": {},
   "outputs": [],
   "source": []
  }
 ],
 "metadata": {
  "kernelspec": {
   "display_name": "Python 3",
   "language": "python",
   "name": "python3"
  },
  "language_info": {
   "codemirror_mode": {
    "name": "ipython",
    "version": 3
   },
   "file_extension": ".py",
   "mimetype": "text/x-python",
   "name": "python",
   "nbconvert_exporter": "python",
   "pygments_lexer": "ipython3",
   "version": "3.7.3"
  },
  "latex_envs": {
   "LaTeX_envs_menu_present": true,
   "autoclose": false,
   "autocomplete": true,
   "bibliofile": "biblio.bib",
   "cite_by": "apalike",
   "current_citInitial": 1,
   "eqLabelWithNumbers": true,
   "eqNumInitial": 1,
   "hotkeys": {
    "equation": "Ctrl-E",
    "itemize": "Ctrl-I"
   },
   "labels_anchors": false,
   "latex_user_defs": false,
   "report_style_numbering": false,
   "user_envs_cfg": false
  }
 },
 "nbformat": 4,
 "nbformat_minor": 2
}
